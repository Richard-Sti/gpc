{
 "cells": [
  {
   "cell_type": "code",
   "execution_count": 1,
   "metadata": {
    "ExecuteTime": {
     "end_time": "2022-10-09T20:20:44.098025Z",
     "start_time": "2022-10-09T20:20:43.055603Z"
    }
   },
   "outputs": [],
   "source": [
    "import numpy as np\n",
    "import joblib\n",
    "\n",
    "%matplotlib notebook\n",
    "import matplotlib.pyplot as plt\n",
    "from sklearn.gaussian_process import GaussianProcessRegressor\n",
    "from sklearn.gaussian_process.kernels import RBF, WhiteKernel\n",
    "\n",
    "import sys\n",
    "sys.path.append(\"../\")\n",
    "sys.path.append(\"../../RARinterpret\")\n",
    "import lgpc\n",
    "import RARinterpret\n",
    "\n",
    "%load_ext autoreload\n",
    "%autoreload 2\n",
    "\n",
    "\n",
    "_X, y, weights, features, indxs = (joblib.load('../../RARinterpret/results/processed_cat.p')[p]\n",
    "                           for p in (\"X\", \"y\", \"weights\", \"features\", \"indxs\"))\n",
    "x = _X[:, 2]\n",
    "z = _X[:, 0]\n",
    "\n",
    "from scipy.stats import spearmanr\n",
    "\n",
    "from scipy.stats import truncnorm, norm\n",
    "\n",
    "from sklearn.linear_model import LinearRegression"
   ]
  },
  {
   "cell_type": "code",
   "execution_count": 2,
   "metadata": {
    "ExecuteTime": {
     "end_time": "2022-10-09T20:20:45.500270Z",
     "start_time": "2022-10-09T20:20:45.421699Z"
    }
   },
   "outputs": [
    {
     "name": "stderr",
     "output_type": "stream",
     "text": [
      "100%|██████████████████████████████████████████| 10/10 [00:00<00:00, 966.92it/s]\n",
      "100%|██████████████████████████████████████████| 10/10 [00:00<00:00, 891.19it/s]\n"
     ]
    }
   ],
   "source": [
    "n_splits = 10\n",
    "# GroupShuffle split mask\n",
    "test_masks = RARinterpret.train_test_shuffle_mask(indxs, n_splits=n_splits, test_size=42,\n",
    "                                                  random_state=42)\n",
    "\n",
    "\n",
    "# gpr = GaussianProcessRegressor(kernel=RBF() + WhiteKernel(), n_restarts_optimizer=1, normalize_y=True)\n",
    "\n",
    "gpr = LinearRegression()\n",
    "\n",
    "\n",
    "\n",
    "dxz, dyz, fullout = lgpc.get_reg_residuals(gpr, x, y, z, test_masks, partial=False)"
   ]
  },
  {
   "cell_type": "code",
   "execution_count": 3,
   "metadata": {
    "ExecuteTime": {
     "end_time": "2022-10-09T20:21:09.837466Z",
     "start_time": "2022-10-09T20:21:09.799100Z"
    }
   },
   "outputs": [],
   "source": [
    "dxz_summ = lgpc.fold_average(dxz)\n",
    "\n",
    "dyz_summ = lgpc.fold_average(dyz)"
   ]
  },
  {
   "cell_type": "code",
   "execution_count": 4,
   "metadata": {
    "ExecuteTime": {
     "end_time": "2022-10-09T20:21:10.665882Z",
     "start_time": "2022-10-09T20:21:10.343744Z"
    },
    "scrolled": true
   },
   "outputs": [
    {
     "ename": "NameError",
     "evalue": "name 'stats' is not defined",
     "output_type": "error",
     "traceback": [
      "\u001b[0;31m---------------------------------------------------------------------------\u001b[0m",
      "\u001b[0;31mNameError\u001b[0m                                 Traceback (most recent call last)",
      "Input \u001b[0;32mIn [4]\u001b[0m, in \u001b[0;36m<cell line: 2>\u001b[0;34m()\u001b[0m\n\u001b[1;32m      1\u001b[0m p \u001b[38;5;241m=\u001b[39m np\u001b[38;5;241m.\u001b[39mlinspace(z\u001b[38;5;241m.\u001b[39mmin(), z\u001b[38;5;241m.\u001b[39mmax(), \u001b[38;5;241m100\u001b[39m)\n\u001b[0;32m----> 2\u001b[0m cf, ps \u001b[38;5;241m=\u001b[39m \u001b[43mlgpc\u001b[49m\u001b[38;5;241;43m.\u001b[39;49m\u001b[43mlocal_partial_correlation\u001b[49m\u001b[43m(\u001b[49m\u001b[43mdxz_summ\u001b[49m\u001b[43m,\u001b[49m\u001b[43m \u001b[49m\u001b[43mdyz_summ\u001b[49m\u001b[43m,\u001b[49m\u001b[43m \u001b[49m\u001b[43mp\u001b[49m\u001b[38;5;241;43m=\u001b[39;49m\u001b[43mz\u001b[49m\u001b[43m,\u001b[49m\u001b[43m \u001b[49m\u001b[43mpeval\u001b[49m\u001b[38;5;241;43m=\u001b[39;49m\u001b[43mp\u001b[49m\u001b[43m,\u001b[49m\u001b[43m \u001b[49m\u001b[43mwidth\u001b[49m\u001b[38;5;241;43m=\u001b[39;49m\u001b[38;5;241;43m0.2\u001b[39;49m\u001b[43m,\u001b[49m\u001b[43m \u001b[49m\u001b[43mNrepeat\u001b[49m\u001b[38;5;241;43m=\u001b[39;49m\u001b[38;5;241;43m30\u001b[39;49m\u001b[43m,\u001b[49m\n\u001b[1;32m      3\u001b[0m \u001b[43m                                        \u001b[49m\u001b[43mkernel\u001b[49m\u001b[38;5;241;43m=\u001b[39;49m\u001b[38;5;124;43m\"\u001b[39;49m\u001b[38;5;124;43mgaussian\u001b[39;49m\u001b[38;5;124;43m\"\u001b[39;49m\u001b[43m)\u001b[49m\n",
      "File \u001b[0;32m~/Projects/lgpc/scripts/../lgpc/model.py:314\u001b[0m, in \u001b[0;36mlocal_partial_correlation\u001b[0;34m(dxz, dyz, p, peval, width, Nrepeat, choice_mult, kernel, corr)\u001b[0m\n\u001b[1;32m    312\u001b[0m ps \u001b[38;5;241m=\u001b[39m numpy\u001b[38;5;241m.\u001b[39mfull((Neval, Nrepeat, Nxfeat), numpy\u001b[38;5;241m.\u001b[39mnan)\n\u001b[1;32m    313\u001b[0m \u001b[38;5;28;01mfor\u001b[39;00m i \u001b[38;5;129;01min\u001b[39;00m \u001b[38;5;28mrange\u001b[39m(Neval):\n\u001b[0;32m--> 314\u001b[0m     weights \u001b[38;5;241m=\u001b[39m \u001b[43mkernel_weights\u001b[49m\u001b[43m(\u001b[49m\u001b[43mp\u001b[49m\u001b[43m,\u001b[49m\u001b[43m \u001b[49m\u001b[43mpeval\u001b[49m\u001b[43m[\u001b[49m\u001b[43mi\u001b[49m\u001b[43m]\u001b[49m\u001b[43m,\u001b[49m\u001b[43m \u001b[49m\u001b[43mwidth\u001b[49m\u001b[43m,\u001b[49m\u001b[43m \u001b[49m\u001b[43mkernel\u001b[49m\u001b[43m)\u001b[49m\n\u001b[1;32m    315\u001b[0m     \u001b[38;5;28;01mfor\u001b[39;00m j \u001b[38;5;129;01min\u001b[39;00m \u001b[38;5;28mrange\u001b[39m(Nrepeat):\n\u001b[1;32m    316\u001b[0m             \u001b[38;5;28;01mfor\u001b[39;00m k \u001b[38;5;129;01min\u001b[39;00m \u001b[38;5;28mrange\u001b[39m(Nxfeat):\n",
      "File \u001b[0;32m~/Projects/lgpc/scripts/../lgpc/utils.py:89\u001b[0m, in \u001b[0;36mkernel_weights\u001b[0;34m(p, loc, scale, kernel)\u001b[0m\n\u001b[1;32m     86\u001b[0m allowed \u001b[38;5;241m=\u001b[39m [\u001b[38;5;124m\"\u001b[39m\u001b[38;5;124mgaussian\u001b[39m\u001b[38;5;124m\"\u001b[39m, \u001b[38;5;124m\"\u001b[39m\u001b[38;5;124mtophat\u001b[39m\u001b[38;5;124m\"\u001b[39m]\n\u001b[1;32m     88\u001b[0m \u001b[38;5;28;01mif\u001b[39;00m kernel \u001b[38;5;241m==\u001b[39m \u001b[38;5;124m\"\u001b[39m\u001b[38;5;124mgaussian\u001b[39m\u001b[38;5;124m\"\u001b[39m:\n\u001b[0;32m---> 89\u001b[0m     dist \u001b[38;5;241m=\u001b[39m \u001b[43mstats\u001b[49m\u001b[38;5;241m.\u001b[39mnorm(loc, scale)\n\u001b[1;32m     90\u001b[0m \u001b[38;5;28;01melif\u001b[39;00m kernel \u001b[38;5;241m==\u001b[39m \u001b[38;5;124m\"\u001b[39m\u001b[38;5;124mtophat\u001b[39m\u001b[38;5;124m\"\u001b[39m:\n\u001b[1;32m     91\u001b[0m     dist \u001b[38;5;241m=\u001b[39m stats\u001b[38;5;241m.\u001b[39mnorm(loc, scale)\n",
      "\u001b[0;31mNameError\u001b[0m: name 'stats' is not defined"
     ]
    }
   ],
   "source": [
    "p = np.linspace(z.min(), z.max(), 100)\n",
    "cf, ps = lgpc.local_partial_correlation(dxz_summ, dyz_summ, p=z, peval=p, width=0.2, Nrepeat=30,\n",
    "                                        kernel=\"gaussian\")"
   ]
  },
  {
   "cell_type": "code",
   "execution_count": null,
   "metadata": {
    "ExecuteTime": {
     "end_time": "2022-10-09T20:16:13.662244Z",
     "start_time": "2022-10-09T20:16:13.581726Z"
    }
   },
   "outputs": [],
   "source": [
    "k = 0\n",
    "mu = cf[:, k, 0]\n",
    "std = cf[:, k, 1]\n",
    "\n",
    "fig, ax = plt.subplots(nrows=2, sharex=True, gridspec_kw={\"height_ratios\": [1, 0.5]})\n",
    "fig.subplots_adjust(hspace=0)\n",
    "ax[0].plot(p, mu)\n",
    "ax[0].fill_between(p, mu - std, mu + std, alpha=0.5)\n",
    "\n",
    "ax[0].plot(p, ps[:, k])\n",
    "ax[0].axhline(0, lw=1)\n",
    "\n",
    "# ax[0].plot(zeval, np.median(out[..., 1], axis=1))\n",
    "\n",
    "ax[1].hist(z, bins=\"auto\")\n",
    "\n",
    "\n",
    "plt.show()"
   ]
  },
  {
   "cell_type": "code",
   "execution_count": null,
   "metadata": {},
   "outputs": [],
   "source": []
  },
  {
   "cell_type": "code",
   "execution_count": null,
   "metadata": {},
   "outputs": [],
   "source": []
  },
  {
   "cell_type": "code",
   "execution_count": null,
   "metadata": {
    "ExecuteTime": {
     "end_time": "2022-10-06T21:55:23.126767Z",
     "start_time": "2022-10-06T21:55:23.075432Z"
    },
    "scrolled": false
   },
   "outputs": [],
   "source": [
    "mu = np.mean(out[..., 0], axis=1)\n",
    "std = np.std(out[..., 0], axis=1)\n",
    "\n",
    "fig, ax = plt.subplots(nrows=2, sharex=True, gridspec_kw={\"height_ratios\": [1, 0.25]})\n",
    "fig.subplots_adjust(hspace=0)\n",
    "ax[0].plot(zeval, mu)\n",
    "ax[0].fill_between(zeval, mu - std, mu + std, alpha=0.5)\n",
    "# ax[0].plot(zeval, np.median(out[..., 1], axis=1))\n",
    "\n",
    "ax[1].hist(z, bins=\"auto\")\n",
    "\n",
    "\n",
    "plt.show()"
   ]
  },
  {
   "cell_type": "code",
   "execution_count": null,
   "metadata": {
    "ExecuteTime": {
     "end_time": "2022-10-06T21:55:31.226099Z",
     "start_time": "2022-10-06T21:55:31.171933Z"
    }
   },
   "outputs": [],
   "source": [
    "\n",
    "\n",
    "plt.figure()\n",
    "\n",
    "m = (z > 1.5) & (z < 2)\n",
    "\n",
    "plt.scatter(x, y, s=3, c=z)\n",
    "plt.colorbar()\n",
    "\n",
    "# plt.scatter(z, x, s=1)\n",
    "# plt.scatter(z, y, s=1)\n",
    "\n",
    "plt.show()"
   ]
  },
  {
   "cell_type": "code",
   "execution_count": null,
   "metadata": {},
   "outputs": [],
   "source": []
  },
  {
   "cell_type": "code",
   "execution_count": null,
   "metadata": {
    "ExecuteTime": {
     "end_time": "2022-10-06T20:51:43.190492Z",
     "start_time": "2022-10-06T20:51:43.157502Z"
    }
   },
   "outputs": [],
   "source": [
    "features"
   ]
  },
  {
   "cell_type": "code",
   "execution_count": null,
   "metadata": {},
   "outputs": [],
   "source": []
  },
  {
   "cell_type": "code",
   "execution_count": null,
   "metadata": {},
   "outputs": [],
   "source": [
    "lgpc"
   ]
  },
  {
   "cell_type": "code",
   "execution_count": null,
   "metadata": {},
   "outputs": [],
   "source": []
  }
 ],
 "metadata": {
  "kernelspec": {
   "display_name": "Python 3 (ipykernel)",
   "language": "python",
   "name": "python3"
  },
  "language_info": {
   "codemirror_mode": {
    "name": "ipython",
    "version": 3
   },
   "file_extension": ".py",
   "mimetype": "text/x-python",
   "name": "python",
   "nbconvert_exporter": "python",
   "pygments_lexer": "ipython3",
   "version": "3.9.6"
  },
  "vscode": {
   "interpreter": {
    "hash": "31f2aee4e71d21fbe5cf8b01ff0e069b9275f58929596ceb00d14d90e3e16cd6"
   }
  }
 },
 "nbformat": 4,
 "nbformat_minor": 2
}
