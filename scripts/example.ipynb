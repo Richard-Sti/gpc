{
 "cells": [
  {
   "cell_type": "code",
   "execution_count": 1,
   "metadata": {},
   "outputs": [],
   "source": [
    "import numpy as np\n",
    "import joblib\n",
    "\n",
    "%matplotlib widget\n",
    "import matplotlib.pyplot as plt\n",
    "from sklearn.gaussian_process import GaussianProcessRegressor\n",
    "from sklearn.gaussian_process.kernels import RBF, WhiteKernel\n",
    "\n",
    "import sys\n",
    "sys.path.append(\"../\")\n",
    "sys.path.append(\"../../RARinterpret\")\n",
    "import lgpc\n",
    "import RARinterpret\n",
    "\n",
    "%load_ext autoreload\n",
    "%autoreload 2\n",
    "\n",
    "\n",
    "X, y, weights, features, indxs = (joblib.load('../../RARinterpret/results/processed_cat.p')[p]\n",
    "                           for p in (\"X\", \"y\", \"weights\", \"features\", \"indxs\"))"
   ]
  },
  {
   "cell_type": "code",
   "execution_count": 4,
   "metadata": {},
   "outputs": [],
   "source": [
    "n_splits = 500\n",
    "# GroupShuffle split mask\n",
    "test_masks = RARinterpret.train_test_shuffle_mask(indxs, n_splits=n_splits, test_size=42,\n",
    "                                                  random_state=42)\n",
    "\n",
    "# Initialise arrays to store the data\n",
    "N = y.size\n",
    "_x = np.arange(N)\n",
    "Xeval = np.linspace(X.min(), X.max(), 500).reshape(-1,1)\n",
    "residuals = np.full((n_splits, N), np.nan)\n",
    "scores = np.full(n_splits, np.nan)\n",
    "yevals = np.full((n_splits, Xeval.shape[0]), np.nan)\n",
    "\n",
    "gpr = GaussianProcessRegressor(kernel=RBF() + WhiteKernel(), n_restarts_optimizer=1, normalize_y=True)\n",
    "\n",
    "\n",
    "# for i in tqdm(range(n_splits)):\n",
    "#     _res, _score, _yeval = RARinterpret.residuals_gpr(\n",
    "#         gpr, X, y, _x[~test_masks[i, :]], _x[test_masks[i, :]], weights, Xeval)\n",
    "#     residuals[i, :] = _res\n",
    "#     scores[i] = _score\n",
    "#     yevals[i, :] = _yeval\n",
    "    \n",
    "\n",
    "# xeval = Xeval.reshape(-1)"
   ]
  },
  {
   "cell_type": "code",
   "execution_count": 5,
   "metadata": {},
   "outputs": [
    {
     "ename": "AttributeError",
     "evalue": "module 'lgpc' has no attribute 'residuals_gpr'",
     "output_type": "error",
     "traceback": [
      "\u001b[0;31m---------------------------------------------------------------------------\u001b[0m",
      "\u001b[0;31mAttributeError\u001b[0m                            Traceback (most recent call last)",
      "Cell \u001b[0;32mIn [5], line 2\u001b[0m\n\u001b[1;32m      1\u001b[0m i \u001b[38;5;241m=\u001b[39m \u001b[38;5;241m0\u001b[39m\n\u001b[0;32m----> 2\u001b[0m res, score, yeval \u001b[38;5;241m=\u001b[39m lgpc\u001b[38;5;241m.\u001b[39mresiduals_gpr(gpr, X, y, _x[\u001b[38;5;241m~\u001b[39mtest_masks[i, :]], _x[test_masks[i, :]], weights, Xeval)\n",
      "\u001b[0;31mAttributeError\u001b[0m: module 'lgpc' has no attribute 'residuals_gpr'"
     ]
    }
   ],
   "source": [
    "i = 0\n",
    "res, score, yeval = lgpc.residuals_gpr(gpr, X, y, _x[~test_masks[i, :]], _x[test_masks[i, :]], weights, Xeval)"
   ]
  },
  {
   "cell_type": "code",
   "execution_count": 6,
   "metadata": {},
   "outputs": [
    {
     "data": {
      "text/plain": [
       "<module 'lgpc' (namespace)>"
      ]
     },
     "execution_count": 6,
     "metadata": {},
     "output_type": "execute_result"
    }
   ],
   "source": [
    "lgpc"
   ]
  },
  {
   "cell_type": "code",
   "execution_count": null,
   "metadata": {},
   "outputs": [],
   "source": []
  }
 ],
 "metadata": {
  "kernelspec": {
   "display_name": "Python 3 (ipykernel)",
   "language": "python",
   "name": "python3"
  },
  "language_info": {
   "codemirror_mode": {
    "name": "ipython",
    "version": 3
   },
   "file_extension": ".py",
   "mimetype": "text/x-python",
   "name": "python",
   "nbconvert_exporter": "python",
   "pygments_lexer": "ipython3",
   "version": "3.9.6"
  },
  "vscode": {
   "interpreter": {
    "hash": "31f2aee4e71d21fbe5cf8b01ff0e069b9275f58929596ceb00d14d90e3e16cd6"
   }
  }
 },
 "nbformat": 4,
 "nbformat_minor": 2
}
